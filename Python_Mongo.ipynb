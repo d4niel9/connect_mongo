{
 "cells": [
  {
   "cell_type": "code",
   "execution_count": 1,
   "id": "fbb0b752",
   "metadata": {},
   "outputs": [],
   "source": [
    "import pymongo"
   ]
  },
  {
   "cell_type": "code",
   "execution_count": 10,
   "id": "2d503354",
   "metadata": {
    "scrolled": true
   },
   "outputs": [
    {
     "name": "stdout",
     "output_type": "stream",
     "text": [
      "mongodb://127.0.0.10:27017/\n",
      "Error with mongoDB connection:  127.0.0.10:27017: [Errno 111] Connection refused, Timeout: 1.0s, Topology Description: <TopologyDescription id: 63325e47e511a62e96899851, topology_type: Unknown, servers: [<ServerDescription ('127.0.0.10', 27017) server_type: Unknown, rtt: None, error=AutoReconnect('127.0.0.10:27017: [Errno 111] Connection refused')>]>\n",
      "\n",
      "\n"
     ]
    }
   ],
   "source": [
    "def extract_Data(client):\n",
    "    MONGODB_DATABASE = 'TEST'\n",
    "    MONGODB_COLLECTION = 'USERS'\n",
    "    try:\n",
    "        collection = client[MONGODB_DATABASE][MONGODB_COLLECTION]\n",
    "        data = collection.find_one()\n",
    "        print (\"Data extract at %s collection in %s database: \" % (MONGODB_COLLECTION, MONGODB_DATABASE))\n",
    "        print(data)\n",
    "    except Exception as error:\n",
    "        print (\"Error extract data: \" + str(error))\n",
    "        print(\"\\n\")\n",
    "        \n",
    "        \n",
    "def instert_Data(client):\n",
    "    MONGODB_DATABASE = 'TEST'\n",
    "    MONGODB_COLLECTION = 'USERS'\n",
    "    database_entry = {'num': 3}\n",
    "    try:\n",
    "        collection = client[MONGODB_DATABASE][MONGODB_COLLECTION]\n",
    "        collection.insert_one(database_entry)\n",
    "        print (\"Data saved at %s collection in %s database: %s\" % (MONGODB_COLLECTION, MONGODB_DATABASE, database_entry))\n",
    "        print(\"\\n\")\n",
    "    except Exception as error:\n",
    "        print (\"Error saving data: \" + str(error))\n",
    "        print(\"\\n\")\n",
    "        \n",
    "\n",
    "def clientMongo():\n",
    "    MONGODB_HOST = \"127.0.0.10\"\n",
    "    MONGODB_PORT = \"27017\"\n",
    "    MONGODB_TIMEOUT = 1000\n",
    "    URI_CONNECTION = URI_CONNECTION = \"mongodb://\" + MONGODB_HOST + \":\" + MONGODB_PORT +  \"/\"\n",
    "    print(URI_CONNECTION)\n",
    "    try:\n",
    "        client = pymongo.MongoClient(URI_CONNECTION, serverSelectionTimeoutMS=MONGODB_TIMEOUT, maxPoolSize=10)\n",
    "        client.server_info()\n",
    "        print ('OK -- Connected to MongoDB at server ' + (URI_CONNECTION))\n",
    "        print(\"\\n\")\n",
    "        return client\n",
    "    except pymongo.errors.ServerSelectionTimeoutError as error:\n",
    "        print ('Error with mongoDB connection: ', error)\n",
    "        print(\"\\n\")\n",
    "    except pymongo.errors.ConnectionFailure as error:\n",
    "        print ('Could not connect to MongoDB: ',  error)\n",
    "        print(\"\\n\")\n",
    "        \n",
    "        \n",
    "if __name__ == \"__main__\":\n",
    "    client = clientMongo()"
   ]
  },
  {
   "cell_type": "code",
   "execution_count": 11,
   "id": "1f1fd0f7",
   "metadata": {},
   "outputs": [
    {
     "name": "stdout",
     "output_type": "stream",
     "text": [
      "Error saving data: 'NoneType' object is not subscriptable\n",
      "\n",
      "\n"
     ]
    }
   ],
   "source": [
    "instert_Data(client)"
   ]
  },
  {
   "cell_type": "code",
   "execution_count": 12,
   "id": "5d130e98",
   "metadata": {
    "scrolled": false
   },
   "outputs": [
    {
     "name": "stdout",
     "output_type": "stream",
     "text": [
      "Error extract data: 'NoneType' object is not subscriptable\n",
      "\n",
      "\n"
     ]
    }
   ],
   "source": [
    "extract_Data(client)"
   ]
  },
  {
   "cell_type": "code",
   "execution_count": null,
   "id": "5e979d6a",
   "metadata": {},
   "outputs": [],
   "source": []
  }
 ],
 "metadata": {
  "kernelspec": {
   "display_name": "Python 3 (ipykernel)",
   "language": "python",
   "name": "python3"
  },
  "language_info": {
   "codemirror_mode": {
    "name": "ipython",
    "version": 3
   },
   "file_extension": ".py",
   "mimetype": "text/x-python",
   "name": "python",
   "nbconvert_exporter": "python",
   "pygments_lexer": "ipython3",
   "version": "3.9.0"
  }
 },
 "nbformat": 4,
 "nbformat_minor": 5
}
